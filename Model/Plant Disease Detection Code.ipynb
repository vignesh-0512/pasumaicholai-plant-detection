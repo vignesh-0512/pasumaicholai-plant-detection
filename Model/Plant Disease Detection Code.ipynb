version https://git-lfs.github.com/spec/v1
oid sha256:d6acca15a3b74ce333db3bc13933f52287968f9d61b806ab92aa6a9bb95a1587
size 85330
